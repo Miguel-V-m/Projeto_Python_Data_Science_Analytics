{
 "cells": [
  {
   "cell_type": "markdown",
   "metadata": {},
   "source": [
    "# Aula 3 - Exercícios\n",
    "\n"
   ]
  },
  {
   "cell_type": "code",
   "execution_count": null,
   "metadata": {},
   "outputs": [],
   "source": [
    "import numpy as np\n",
    "import pandas as pd"
   ]
  },
  {
   "cell_type": "code",
   "execution_count": null,
   "metadata": {},
   "outputs": [],
   "source": [
    "lista = [10,5,20,10]"
   ]
  },
  {
   "cell_type": "code",
   "execution_count": null,
   "metadata": {},
   "outputs": [],
   "source": [
    "# Retorne o 2º Elemento da Lista - Use uma referência de posição para que funcione em qualquer lista, armazene o resultado na variável \"valor\"\n",
    "\n",
    "\n"
   ]
  },
  {
   "cell_type": "code",
   "execution_count": null,
   "metadata": {},
   "outputs": [],
   "source": [
    "# Multiplique a variável valor por 2, e depois some com o 4º Elemento da lista, chame de valor2:\n",
    "\n",
    "\n",
    "\n",
    "# Monte uma variável chamada \"final\" , uma string composta da frase \"O Resultado final é\" e o valor2 encontrado:\n",
    "\n"
   ]
  },
  {
   "cell_type": "code",
   "execution_count": null,
   "metadata": {},
   "outputs": [],
   "source": [
    "# Defina uma função que faça essa operação (Extrair 2º Elemento, multiplicar por 2 e somar com o 4º Elemento e montar a frase final)\n",
    "# o argumento deve ser a lista passada\n",
    "# Chame a função de 'resultadofinal'\n",
    "\n",
    "\n"
   ]
  },
  {
   "cell_type": "code",
   "execution_count": null,
   "metadata": {},
   "outputs": [],
   "source": [
    "lista2 = [1,2,3,4]"
   ]
  },
  {
   "cell_type": "code",
   "execution_count": null,
   "metadata": {},
   "outputs": [],
   "source": [
    "# Aplique a função nas variáveis \"lista\" e \"lista2\"\n",
    "\n",
    "\n"
   ]
  },
  {
   "cell_type": "code",
   "execution_count": null,
   "metadata": {},
   "outputs": [],
   "source": [
    "valor2"
   ]
  },
  {
   "cell_type": "code",
   "execution_count": null,
   "metadata": {},
   "outputs": [],
   "source": [
    "# Considere novamente a lista2:\n",
    "\n",
    "\n",
    "# Agora vamos multiplicar o valor2 por cada elemento da lista2, vamos armazenar o resultado em uma outra lista chamada de lista3:\n",
    "# Dica, crie uma lista vazia  use um loop entre os valores da lista2 para ir preenchendo a lista:\n",
    "# Imprima o resultado\n",
    "\n",
    "\n",
    "    \n"
   ]
  },
  {
   "cell_type": "code",
   "execution_count": null,
   "metadata": {},
   "outputs": [],
   "source": [
    "# Vamos repetir a operação acima, porém vamos aplicar a seguinte condição:\n",
    "# Se o valor da lista2 for par, faremos a multiplicação, e se for ímpar não faremos nada:\n",
    "\n",
    "\n",
    "# Dica, o Operador % entre dois números retorna o resto da divisão entre dois números\n",
    "\n",
    "\n",
    "\n"
   ]
  }
 ],
 "metadata": {
  "kernelspec": {
   "display_name": "Python 3",
   "language": "python",
   "name": "python3"
  },
  "language_info": {
   "codemirror_mode": {
    "name": "ipython",
    "version": 3
   },
   "file_extension": ".py",
   "mimetype": "text/x-python",
   "name": "python",
   "nbconvert_exporter": "python",
   "pygments_lexer": "ipython3",
   "version": "3.8.8"
  }
 },
 "nbformat": 4,
 "nbformat_minor": 4
}
